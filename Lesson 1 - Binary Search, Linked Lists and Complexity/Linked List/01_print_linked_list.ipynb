{
 "cells": [
  {
   "cell_type": "markdown",
   "metadata": {},
   "source": [
    "## Problem:\n",
    "> Write a general-purpose function printList() that prints any given linked-list."
   ]
  },
  {
   "cell_type": "code",
   "execution_count": 1,
   "metadata": {},
   "outputs": [],
   "source": [
    "# A simple Python program for traversal of a linked list\n",
    "# Node Class\n",
    "class Node:\n",
    "\n",
    "    # Function to initialize node object\n",
    "    def __init__(self, data):\n",
    "        self.data = data # Assign data\n",
    "        self.next = None # Initialize next as null\n",
    "    \n",
    "# Linked List contains a Node object\n",
    "class LinkedList:\n",
    "\n",
    "    # Function to initalize head\n",
    "    def __init__(self):\n",
    "        self.head = None\n",
    "    \n",
    "    # Function to print contents of Linked List from head\n",
    "    def printList(self):\n",
    "        temp = self.head\n",
    "        while(temp):\n",
    "            print(temp.data)\n",
    "            temp = temp.next"
   ]
  },
  {
   "cell_type": "markdown",
   "metadata": {},
   "source": [
    "### Now, we create Linked List and use the function that we created above, to print the linked list"
   ]
  },
  {
   "cell_type": "code",
   "execution_count": 2,
   "metadata": {},
   "outputs": [
    {
     "name": "stdout",
     "output_type": "stream",
     "text": [
      "1\n",
      "2\n",
      "3\n"
     ]
    }
   ],
   "source": [
    "# Starts with empty Linked List\n",
    "lList = LinkedList()\n",
    "\n",
    "# Creating Head & other nodes for Linked List\n",
    "lList.head = Node(1)\n",
    "second = Node(2)\n",
    "third = Node(3)\n",
    "\n",
    "# Linking Head & other nodes sequencially\n",
    "lList.head.next = second;\n",
    "second.next = third;\n",
    "\n",
    "# Using printList function\n",
    "lList.printList()"
   ]
  }
 ],
 "metadata": {
  "interpreter": {
   "hash": "3e702569097edf45a6ec0f6f6143ae3522dc2aad4a3472ef5b4c59cd1069b7eb"
  },
  "kernelspec": {
   "display_name": "Python 3 (ipykernel)",
   "language": "python",
   "name": "python3"
  },
  "language_info": {
   "codemirror_mode": {
    "name": "ipython",
    "version": 3
   },
   "file_extension": ".py",
   "mimetype": "text/x-python",
   "name": "python",
   "nbconvert_exporter": "python",
   "pygments_lexer": "ipython3",
   "version": "3.10.0"
  }
 },
 "nbformat": 4,
 "nbformat_minor": 2
}
