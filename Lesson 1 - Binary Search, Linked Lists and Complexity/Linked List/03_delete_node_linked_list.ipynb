{
 "cells": [
  {
   "cell_type": "markdown",
   "metadata": {},
   "source": [
    "## Problem:\n",
    "> Given a `key`, delete the first occurrence of this key in the linked list."
   ]
  },
  {
   "cell_type": "markdown",
   "metadata": {},
   "source": [
    "### Iterative Method:\n",
    "1. Find the previous node of the node to be deleted.\n",
    "2. Change the next of previous node.\n",
    "3. Free memory of the node to be deleted.\n",
    "\n",
    "![image](https://media.geeksforgeeks.org/wp-content/cdn-uploads/gq/2014/05/Linkedlist_deletion.png)"
   ]
  },
  {
   "cell_type": "code",
   "execution_count": 2,
   "metadata": {},
   "outputs": [
    {
     "name": "stdout",
     "output_type": "stream",
     "text": [
      "Created Linked List: \n",
      " 2\n",
      " 3\n",
      " 1\n",
      " 7\n",
      "\n",
      "Linked List after deletion: \n",
      " 2\n",
      " 3\n",
      " 7\n"
     ]
    }
   ],
   "source": [
    "# Creating Node Class\n",
    "class Node:\n",
    "    \n",
    "    # Function to initiate Node object\n",
    "    def __init__(self, data):\n",
    "        self.data = data\n",
    "        self.next = None\n",
    "\n",
    "# Creating LinkedList Class\n",
    "class LinkedList:\n",
    "\n",
    "    # Function to initiate Node head\n",
    "    def __init__(self):\n",
    "        self.head = None\n",
    "\n",
    "    # Function to insert new data at start of the list\n",
    "    def push(self, new_data):\n",
    "        new_node = Node(new_data)\n",
    "        new_node.next = self.head\n",
    "        self.head = new_node\n",
    "    \n",
    "    # Given the reference of the head of the list, & a key, delete the first occurance of the key\n",
    "    def delNode(self, key):\n",
    "\n",
    "        # Store head\n",
    "        temp = self.head\n",
    "\n",
    "        # If head node itself holds the key to be deleted\n",
    "        if (temp is not None):\n",
    "            if (temp.data == key):\n",
    "                self.head = temp.next\n",
    "                temp = None\n",
    "                return\n",
    "        \n",
    "        # Search for the key to be deleted, and keep the track of the previous node as we need to change prev.next\n",
    "        while(temp is not None):\n",
    "            if(temp.data == key):\n",
    "                break\n",
    "            prev = temp\n",
    "            temp = temp.next\n",
    "\n",
    "        # If key is not present in teh linked list\n",
    "        if (temp == None):\n",
    "            return\n",
    "        \n",
    "        # Unlink the node from linked list\n",
    "        prev.next = temp.next\n",
    "        temp = None\n",
    "\n",
    "    # Function to print LinkedList elements\n",
    "    def printList(self):\n",
    "        temp = self.head\n",
    "        while(temp):\n",
    "            print(\" %d\"%(temp.data)),\n",
    "            temp = temp.next\n",
    "    \n",
    "# Creating LinkedList\n",
    "lList = LinkedList()\n",
    "lList.push(7)\n",
    "lList.push(1)\n",
    "lList.push(3)\n",
    "lList.push(2)\n",
    "\n",
    "print(\"Created Linked List: \")\n",
    "lList.printList()\n",
    "lList.delNode(1)\n",
    "print(\"\\nLinked List after deletion: \")\n",
    "lList.printList()"
   ]
  }
 ],
 "metadata": {
  "interpreter": {
   "hash": "3e702569097edf45a6ec0f6f6143ae3522dc2aad4a3472ef5b4c59cd1069b7eb"
  },
  "kernelspec": {
   "display_name": "Python 3.10.0 64-bit",
   "language": "python",
   "name": "python3"
  },
  "language_info": {
   "codemirror_mode": {
    "name": "ipython",
    "version": 3
   },
   "file_extension": ".py",
   "mimetype": "text/x-python",
   "name": "python",
   "nbconvert_exporter": "python",
   "pygments_lexer": "ipython3",
   "version": "3.10.0"
  },
  "orig_nbformat": 4
 },
 "nbformat": 4,
 "nbformat_minor": 2
}
