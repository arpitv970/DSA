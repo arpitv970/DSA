{
 "cells": [
  {
   "cell_type": "markdown",
   "metadata": {},
   "source": [
    "## Problem:\n",
    "> Delete a Linked List node at a given position."
   ]
  },
  {
   "cell_type": "markdown",
   "metadata": {},
   "source": [
    "### Algo:\n",
    "1. If the node to be deleted is the root, simply delete it.\n",
    "2. To delete a middle node, we must have a pointer to the node previous to the node to be deleted.\n",
    "3. So if positions are not zero, we run a loop `position - 1` times and get a pointer to the previous node."
   ]
  },
  {
   "cell_type": "code",
   "execution_count": 1,
   "metadata": {},
   "outputs": [
    {
     "name": "stdout",
     "output_type": "stream",
     "text": [
      "Created Linked List: \n",
      " 9\n",
      " 2\n",
      " 3\n",
      " 1\n",
      " 7\n",
      "\n",
      "Linked List after deletion: \n",
      " 9\n",
      " 2\n",
      " 3\n",
      " 7\n"
     ]
    }
   ],
   "source": [
    "class Node:\n",
    "\n",
    "    # Function to initiate Node object\n",
    "    def __init__(self, data):\n",
    "        self.data = data\n",
    "        self.next = None\n",
    "\n",
    "class LinkedList:\n",
    "\n",
    "    # Function to initiate Node head\n",
    "    def __init__(self):\n",
    "        self.head = None\n",
    "    \n",
    "    # Function to push new data at the start of the array\n",
    "    def push(self, new_data):\n",
    "        new_node = Node(new_data)\n",
    "        new_node.next = self.head\n",
    "        self.head = new_node\n",
    "    \n",
    "    def delNode(self, position):\n",
    "\n",
    "        # If the Linked List is empty\n",
    "        if(self.head == None):\n",
    "            return\n",
    "        \n",
    "        # Store Head node\n",
    "        temp = self.head\n",
    "\n",
    "        # If Head needs to be removed\n",
    "        if (position == 0):\n",
    "            self.head = temp.next\n",
    "            temp = None\n",
    "            return\n",
    "\n",
    "        # Find previous node to the node to be deleted\n",
    "        for i in range(position - 1):\n",
    "            temp = temp.next\n",
    "            if temp is None:\n",
    "                break\n",
    "\n",
    "        # If position is more than number of nodes\n",
    "        if temp is None:\n",
    "            return\n",
    "        if temp.next is None:\n",
    "            return\n",
    "\n",
    "        # Node temp.next is the node to be deleted\n",
    "        # store the pointer of the node next to the node to be deleted\n",
    "        nextPtr = temp.next.next\n",
    "\n",
    "        # Unlink the node to that to be deleted\n",
    "        temp.next = None\n",
    "\n",
    "        temp.next = nextPtr\n",
    "\n",
    "    # Function to print LinkedList elements\n",
    "    def printList(self):\n",
    "        temp = self.head\n",
    "        while(temp):\n",
    "            print(\" %d\"%(temp.data)),\n",
    "            temp = temp.next\n",
    "\n",
    "# Creating LinkedList\n",
    "lList = LinkedList()\n",
    "lList.push(7)\n",
    "lList.push(1)\n",
    "lList.push(3)\n",
    "lList.push(2)\n",
    "lList.push(9)\n",
    "\n",
    "print(\"Created Linked List: \")\n",
    "lList.printList()\n",
    "lList.delNode(3)\n",
    "print(\"\\nLinked List after deletion: \")\n",
    "lList.printList()"
   ]
  }
 ],
 "metadata": {
  "interpreter": {
   "hash": "3e702569097edf45a6ec0f6f6143ae3522dc2aad4a3472ef5b4c59cd1069b7eb"
  },
  "kernelspec": {
   "display_name": "Python 3.10.0 64-bit",
   "language": "python",
   "name": "python3"
  },
  "language_info": {
   "codemirror_mode": {
    "name": "ipython",
    "version": 3
   },
   "file_extension": ".py",
   "mimetype": "text/x-python",
   "name": "python",
   "nbconvert_exporter": "python",
   "pygments_lexer": "ipython3",
   "version": "3.10.0"
  },
  "orig_nbformat": 4
 },
 "nbformat": 4,
 "nbformat_minor": 2
}
