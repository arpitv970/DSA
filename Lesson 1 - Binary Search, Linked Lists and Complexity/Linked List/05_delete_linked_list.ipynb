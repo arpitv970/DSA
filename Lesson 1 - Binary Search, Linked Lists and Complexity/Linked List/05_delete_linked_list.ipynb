{
 "cells": [
  {
   "cell_type": "markdown",
   "metadata": {},
   "source": [
    "## Problem:\n",
    "> WAP to delete a Linked List"
   ]
  },
  {
   "cell_type": "markdown",
   "metadata": {},
   "source": [
    "### Algo:\n",
    "- **For C/C++**\n",
    "  - Iterate through the linked list\n",
    "  - Delete all the nodes one by one\n",
    "  - The main point is not to access `next` of `current` pointer\n",
    "\n",
    "\n",
    "- **For Python/Java**\n",
    "  - automatic garbage collection happens, so deleting a linked list is easy. Just need to change head to null.\n",
    "\n",
    "![visualization](images\\05_1.png)"
   ]
  },
  {
   "cell_type": "code",
   "execution_count": 2,
   "metadata": {},
   "outputs": [
    {
     "name": "stdout",
     "output_type": "stream",
     "text": [
      "Deleting linked list\n",
      "Linked list deleted\n"
     ]
    }
   ],
   "source": [
    "# Node class\n",
    "class Node:\n",
    "    \n",
    "    # Function to initiate node object\n",
    "    def __init__(self, data):\n",
    "        self.data = data\n",
    "        self.next = None\n",
    "\n",
    "# LinkedList Class\n",
    "class LinkedList:\n",
    "\n",
    "    # Function to initiate head\n",
    "    def __init__(self):\n",
    "        self.head = None\n",
    "\n",
    "    # Function to delete Linked List\n",
    "    def delList(self):\n",
    "        \n",
    "        # initiate current node\n",
    "        current = self.head\n",
    "        while current:\n",
    "\n",
    "            # Move to next\n",
    "            nextPtr = current.next\n",
    "\n",
    "            # Delete current node\n",
    "            current = None\n",
    "\n",
    "            # Set current to nextPtr\n",
    "            current = nextPtr\n",
    "        \n",
    "        # In python garbage collection happens therefore, only by following code the program will do its job\n",
    "        # self.head = None\n",
    "            \n",
    "\n",
    "    # push function to add node in front of llist\n",
    "    def push(self, new_data):\n",
    "\n",
    "        # Allocate the Node & put in the data\n",
    "        new_node = Node(new_data)\n",
    "\n",
    "        # Point new_node to original head\n",
    "        new_node.next = self.head\n",
    "\n",
    "        # Now change the head pointer to new_node\n",
    "        self.head = new_node\n",
    "\n",
    "# Creating a llist, adding nodes\n",
    "llist = LinkedList()\n",
    "llist.push(1)\n",
    "llist.push(4)\n",
    "llist.push(1)\n",
    "llist.push(12)\n",
    "llist.push(1)\n",
    " \n",
    "print(\"Deleting linked list\")\n",
    "llist.delList()\n",
    " \n",
    "print(\"Linked list deleted\")\n"
   ]
  }
 ],
 "metadata": {
  "interpreter": {
   "hash": "3e702569097edf45a6ec0f6f6143ae3522dc2aad4a3472ef5b4c59cd1069b7eb"
  },
  "kernelspec": {
   "display_name": "Python 3.10.0 64-bit",
   "language": "python",
   "name": "python3"
  },
  "language_info": {
   "codemirror_mode": {
    "name": "ipython",
    "version": 3
   },
   "file_extension": ".py",
   "mimetype": "text/x-python",
   "name": "python",
   "nbconvert_exporter": "python",
   "pygments_lexer": "ipython3",
   "version": "3.10.0"
  },
  "orig_nbformat": 4
 },
 "nbformat": 4,
 "nbformat_minor": 2
}
