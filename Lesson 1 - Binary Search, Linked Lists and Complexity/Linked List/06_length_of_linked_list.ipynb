{
 "cells": [
  {
   "cell_type": "markdown",
   "metadata": {},
   "source": [
    "## Problem:\n",
    "> Find Length of a Linked List\n",
    "\n",
    "### Iterative Solution\n",
    "- Initiate `count` = 0\n",
    "- While `current == True`\n",
    "  - `current = current.next`\n",
    "  - `count += 1`\n",
    "- Return `count`\n",
    "\n",
    "![Length of Linked List](images\\06_1.png)"
   ]
  },
  {
   "cell_type": "code",
   "execution_count": 3,
   "metadata": {},
   "outputs": [
    {
     "name": "stdout",
     "output_type": "stream",
     "text": [
      "Count of nodes is : 5\n"
     ]
    }
   ],
   "source": [
    "# Node class\n",
    "class Node:\n",
    "\n",
    "    # Function to initiate node object\n",
    "    def __init__(self, data):\n",
    "        self.data = data\n",
    "        self.next = None\n",
    "\n",
    "# LinkedList class\n",
    "class LinkedList:\n",
    "\n",
    "    # Function to initiate Head\n",
    "    def __init__(self):\n",
    "        self.head = None\n",
    "\n",
    "    # Iterative way for counting linked list\n",
    "    def lenIter(self):\n",
    "\n",
    "        # initalising count as 0\n",
    "        count = 0\n",
    "\n",
    "        # initiating current with head\n",
    "        current = self.head\n",
    "\n",
    "        # iterating through LinkedList\n",
    "        while (current):\n",
    "            count += 1\n",
    "            current = current.next\n",
    "        return count\n",
    "\n",
    "    # push function to add node in front of llist\n",
    "    def push(self, new_data):\n",
    "\n",
    "        # Allocate the Node & put in the data\n",
    "        new_node = Node(new_data)\n",
    "\n",
    "        # Point new_node to original head\n",
    "        new_node.next = self.head\n",
    "\n",
    "        # Now change the head pointer to new_node\n",
    "        self.head = new_node\n",
    "\n",
    "llist = LinkedList()\n",
    "llist.push(1)\n",
    "llist.push(3)\n",
    "llist.push(1)\n",
    "llist.push(2)\n",
    "llist.push(1)\n",
    "print (\"Count of nodes is :\",llist.lenIter())"
   ]
  },
  {
   "cell_type": "markdown",
   "metadata": {},
   "source": [
    "### Recursive Solution"
   ]
  },
  {
   "cell_type": "code",
   "execution_count": 5,
   "metadata": {},
   "outputs": [
    {
     "name": "stdout",
     "output_type": "stream",
     "text": [
      "Count of nodes is : 5\n"
     ]
    }
   ],
   "source": [
    "# Node class\n",
    "class Node:\n",
    "\n",
    "    # Function to initiate node object\n",
    "    def __init__(self, data):\n",
    "        self.data = data\n",
    "        self.next = None\n",
    "\n",
    "# LinkedList class\n",
    "class LinkedList():\n",
    "\n",
    "    # Function to initiate head object\n",
    "    def __init__(self):\n",
    "        self.head = None\n",
    "\n",
    "    # Function to find length recursively\n",
    "    def getLenRec(self, node):\n",
    "        if (not node):\n",
    "            return 0\n",
    "        else:\n",
    "            return 1 + self.getLenRec(node.next)\n",
    "\n",
    "    # A wrapper over getLenRec()\n",
    "    def lenRec(self):\n",
    "        return self.getLenRec(self.head)\n",
    "\n",
    "    # push function to add node in front of llist\n",
    "    def push(self, new_data):\n",
    "\n",
    "        # Allocate the Node & put in the data\n",
    "        new_node = Node(new_data)\n",
    "\n",
    "        # Point new_node to original head\n",
    "        new_node.next = self.head\n",
    "\n",
    "        # Now change the head pointer to new_node\n",
    "        self.head = new_node\n",
    "\n",
    "llist = LinkedList()\n",
    "llist.push(1)\n",
    "llist.push(3)\n",
    "llist.push(1)\n",
    "llist.push(2)\n",
    "llist.push(1)\n",
    "print ('Count of nodes is :',llist.lenRec())\n"
   ]
  }
 ],
 "metadata": {
  "interpreter": {
   "hash": "3e702569097edf45a6ec0f6f6143ae3522dc2aad4a3472ef5b4c59cd1069b7eb"
  },
  "kernelspec": {
   "display_name": "Python 3.10.0 64-bit",
   "language": "python",
   "name": "python3"
  },
  "language_info": {
   "codemirror_mode": {
    "name": "ipython",
    "version": 3
   },
   "file_extension": ".py",
   "mimetype": "text/x-python",
   "name": "python",
   "nbconvert_exporter": "python",
   "pygments_lexer": "ipython3",
   "version": "3.10.0"
  },
  "orig_nbformat": 4
 },
 "nbformat": 4,
 "nbformat_minor": 2
}
